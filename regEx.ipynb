{
 "cells": [
  {
   "cell_type": "code",
   "execution_count": 63,
   "metadata": {},
   "outputs": [],
   "source": [
    "import re\n",
    "import os\n",
    "import keyword\n",
    "import ast"
   ]
  },
  {
   "cell_type": "code",
   "execution_count": 29,
   "metadata": {},
   "outputs": [],
   "source": [
    "file = open(\"./script.py\" ,\"r\")\n",
    "script = file.read()\n",
    "file.close()"
   ]
  },
  {
   "cell_type": "code",
   "execution_count": 36,
   "metadata": {},
   "outputs": [],
   "source": [
    "def removeComments(code):\n",
    "    code = re.sub(\"^#.*\\n\", \" \", code, flags=re.MULTILINE)\n",
    "    code = re.sub(\"#.*$\", \" \", code, flags=re.MULTILINE)\n",
    "    code = re.sub(r'\"\"\"[\\s\\S]*?\"\"\"|\\'\\'\\'[\\s\\S]*?\\'\\'\\'', \" \", code, flags=re.MULTILINE)\n",
    "    return code"
   ]
  },
  {
   "cell_type": "code",
   "execution_count": null,
   "metadata": {},
   "outputs": [],
   "source": [
    "file = open(\"./script.py\" ,\"r\")\n",
    "script = file.read()\n",
    "file.close()\n",
    "script = re.sub(\"^#.*\\n\", \" \", script, flags=re.MULTILINE)\n",
    "script = re.sub(\"#.*$\", \" \", script, flags=re.MULTILINE)\n",
    "script = re.sub(r'\"\"\"[\\s\\S]*?\"\"\"|\\'\\'\\'[\\s\\S]*?\\'\\'\\'', \" \", script, flags=re.MULTILINE)\n",
    "print(script)"
   ]
  },
  {
   "cell_type": "code",
   "execution_count": 61,
   "metadata": {},
   "outputs": [],
   "source": [
    "# def renameVariables(code):\n",
    "#     pattern = r'(?<!\\.)\\b(?!__)[A-Za-z_][A-Za-z0-9_]*\\b(?<!__)(?!\\()'\n",
    "#     variable_names = [name for name in re.findall(pattern, code) if not keyword.iskeyword(name)]\n",
    "\n",
    "#     variable_names = list(set(variable_names))\n",
    "#     prefix = 'VAR'\n",
    "#     count = 0\n",
    "\n",
    "#     for i in variable_names:\n",
    "#         print(\"Replaced\")\n",
    "#         code = re.sub(r'\\b'+i+r'\\b', prefix + str(count), code)\n",
    "#         count += 1\n",
    "    \n",
    "#     return code"
   ]
  },
  {
   "cell_type": "code",
   "execution_count": 67,
   "metadata": {},
   "outputs": [],
   "source": [
    "import re\n",
    "import ast\n",
    "import keyword\n",
    "\n",
    "def complexRenameVariables(code, prefix='VAR'):\n",
    "    # Parse the code into an abstract syntax tree (AST)\n",
    "    tree = ast.parse(code)\n",
    "\n",
    "    # Collect all variable names\n",
    "    variable_names = []\n",
    "    for node in ast.walk(tree):\n",
    "        if isinstance(node, ast.Name):\n",
    "            # Check that the name is not a Python keyword or function name\n",
    "            if not keyword.iskeyword(node.id) and not node.id in dir(__builtins__):\n",
    "                # Check that the name is not a function call\n",
    "                if not isinstance(node.ctx, ast.Call):\n",
    "                    variable_names.append(node.id)\n",
    "\n",
    "    # Remove duplicates\n",
    "    variable_names = list(set(variable_names))\n",
    "\n",
    "    # Rename the variables\n",
    "    count = 0\n",
    "    for old_name in variable_names:\n",
    "        new_name = f'{prefix}{count}'\n",
    "        code = re.sub(rf'(?<!\\w){old_name}(?!\\w)', new_name, code)\n",
    "        count += 1\n",
    "\n",
    "    return code"
   ]
  },
  {
   "cell_type": "code",
   "execution_count": 84,
   "metadata": {},
   "outputs": [],
   "source": [
    "def renameVariables(code):\n",
    "    variable_names = re.findall(r'\\b([a-zA-Z_]\\w*)\\s*=', code)\n",
    "    print(variable_names)\n",
    "    prefix = 'VAR'\n",
    "    count = 0\n",
    "\n",
    "    for i in variable_names:\n",
    "        code = re.sub(r'\\b'+i+r'\\b'+r'(?!\\()', prefix + str(count), code)\n",
    "        count += 1\n",
    "\n",
    "    loopingVariables = re.findall(r'\\b(for|while)\\s+(\\w+)\\s+(in|not in)', code)\n",
    "    print([x[1] for x in loopingVariables])\n",
    "    prefix = 'LOP'\n",
    "    count = 0\n",
    "\n",
    "    for i in loopingVariables:\n",
    "        code = re.sub(r'\\b'+i[1]+r'\\b', prefix + str(count), code)\n",
    "        count += 1\n",
    "\n",
    "    return code"
   ]
  },
  {
   "cell_type": "code",
   "execution_count": 85,
   "metadata": {},
   "outputs": [
    {
     "name": "stdout",
     "output_type": "stream",
     "text": [
      "['logger', '_socket', 'e', 'copy', 'flags', 'i', 'copy', 'flags', 'copy', 'copy', 'timeout', '_socket', 'e', 'parts', 'part', 'copy', 'part', 'copy', 'timeout', '_socket', '_send_queue', '_send_task', 'timeout', 'timeout', '_socket', '_recv_queue', '_recv_task', '_recv_queue', 'parts', 'timeout', 'timeout', '__slots__', 'header', '_name', '_args', '_header', '_header', '_identity', '_name', '_identity', 'use_bin_type', 'unpacker', 'encoding', 'unpacked_msg', 'header', 'ignore_args', 'args', 'args', 'args', 'identity', 'context', '_debug', '_zmq_socket_type', '_context', '_socket', '_send', '_send', '_send', '_recv', '_recv', '_recv', '_debug', 'resolve', 'endpoint', 'r', 'resolve', 'r', 'status', 'resolve', 'r', 'status', 'resolve', 'r', 'status', 'xheader', 'event', 'context', 'timeout', 'parts', 'parts', 'parts', 'timeout', 'parts', 'timeout', 'identity', 'blob', 'identity', 'blob', 'identity', 'blob', 'event', 'identity']\n",
      "['VAR5', 'VAR13', 'x', 'sub_endpoint', 'endpoint_', 'endpoint_', 'endpoint_']\n"
     ]
    }
   ],
   "source": [
    "file = open(\"./script.py\" ,\"r\")\n",
    "script = file.read()\n",
    "file.close()\n",
    "\n",
    "script = removeComments(script)\n",
    "script = renameVariables(script)\n",
    "\n",
    "file = open(\"new_script.py\", \"w\")\n",
    "file.write(script)\n",
    "file.close()"
   ]
  },
  {
   "cell_type": "code",
   "execution_count": 82,
   "metadata": {},
   "outputs": [
    {
     "name": "stdout",
     "output_type": "stream",
     "text": [
      "['n', 'q', 'command']\n",
      "['i']\n"
     ]
    }
   ],
   "source": [
    "file = open(\"./6400007.txt\" ,\"r\")\n",
    "script = file.read()\n",
    "file.close()\n",
    "\n",
    "script = removeComments(script)\n",
    "script = renameVariables(script)\n",
    "\n",
    "file = open(\"new_text.py\", \"w\")\n",
    "file.write(script)\n",
    "file.close()"
   ]
  },
  {
   "cell_type": "code",
   "execution_count": 70,
   "metadata": {},
   "outputs": [],
   "source": [
    "file = open(\"./6400007.txt\" ,\"r\")\n",
    "script = file.read()\n",
    "file.close()"
   ]
  },
  {
   "cell_type": "code",
   "execution_count": 72,
   "metadata": {},
   "outputs": [
    {
     "data": {
      "text/plain": [
       "['n', 'q', 'command']"
      ]
     },
     "execution_count": 72,
     "metadata": {},
     "output_type": "execute_result"
    }
   ],
   "source": [
    "re.findall(r'\\b([a-zA-Z_]\\w*)\\s*=', script)"
   ]
  },
  {
   "cell_type": "code",
   "execution_count": null,
   "metadata": {},
   "outputs": [],
   "source": []
  }
 ],
 "metadata": {
  "kernelspec": {
   "display_name": "Python 3",
   "language": "python",
   "name": "python3"
  },
  "language_info": {
   "codemirror_mode": {
    "name": "ipython",
    "version": 3
   },
   "file_extension": ".py",
   "mimetype": "text/x-python",
   "name": "python",
   "nbconvert_exporter": "python",
   "pygments_lexer": "ipython3",
   "version": "3.10.10"
  },
  "orig_nbformat": 4
 },
 "nbformat": 4,
 "nbformat_minor": 2
}
